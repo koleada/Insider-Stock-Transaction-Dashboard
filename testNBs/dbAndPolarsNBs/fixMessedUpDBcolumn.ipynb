{
 "cells": [
  {
   "cell_type": "markdown",
   "metadata": {},
   "source": [
    "I made the price/share column of each of the tables in the DB of type INTEGER when it needs to store a float. To fix this we will alter each table before adding the remaining columns to it.\n",
    "We will add a new columns of type REAL then drop the old column of type INTEGER. This will end up being done in the program that parses the trans_holding.tsv files. Before adding the rest of the data we will use this method with the ticker as the table name, and old column name. "
   ]
  },
  {
   "cell_type": "code",
   "execution_count": null,
   "metadata": {},
   "outputs": [],
   "source": [
    "import sqlite3\n",
    "\n",
    "def alter_table(db_file, table_name, old_column, new_column_name):\n",
    "  \"\"\"\n",
    "  Alters a table in an SQLite database by adding a REAL column and removing an INTEGER column.\n",
    "\n",
    "  Args:\n",
    "      db_file (str): Path to the SQLite database file.\n",
    "      table_name (str): Name of the table to alter.\n",
    "      old_column (str): Name of the existing integer column to delete.\n",
    "      new_column_name (str): Name of the new column to add with type REAL.\n",
    "  \"\"\"\n",
    "  conn = sqlite3.connect(db_file)\n",
    "  cursor = conn.cursor()\n",
    "  \n",
    "  # Delete the old column of type INTEGER. Do this part first so we can create the new column with the same name. \n",
    "  cursor.execute(f\"ALTER TABLE {table_name} DROP COLUMN {old_column};\")\n",
    "\n",
    "  # Add the new column of type REAL\n",
    "  cursor.execute(f\"\"\"\n",
    "    ALTER TABLE {table_name} ADD COLUMN {new_column_name} REAL;\n",
    "  \"\"\")\n",
    "\n",
    "  # Commit changes\n",
    "  conn.commit()\n",
    "  conn.close()"
   ]
  }
 ],
 "metadata": {
  "language_info": {
   "name": "python"
  }
 },
 "nbformat": 4,
 "nbformat_minor": 2
}
