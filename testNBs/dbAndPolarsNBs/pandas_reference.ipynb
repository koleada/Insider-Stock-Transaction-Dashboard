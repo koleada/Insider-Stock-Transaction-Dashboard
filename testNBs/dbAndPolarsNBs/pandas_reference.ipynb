{
 "cells": [
  {
   "cell_type": "markdown",
   "metadata": {},
   "source": [
    "# Simple reference notebook for the basics of pandas "
   ]
  },
  {
   "cell_type": "code",
   "execution_count": 13,
   "metadata": {},
   "outputs": [
    {
     "name": "stdout",
     "output_type": "stream",
     "text": [
      "                                        title  year  score\n",
      "0             Monty Python and the Holy Grail  1975    8.2\n",
      "1  And Now for Something Completely Different  1971    7.5\n",
      "2     Monty Python Live at the Hollywood Bowl  1982    7.9\n",
      "3          Monty Python's The Meaning of Life  1983    7.5\n",
      "4                Monty Python's Life of Brian  1979    8.0\n"
     ]
    }
   ],
   "source": [
    "import pandas as pd\n",
    "import sqlite3\n",
    "import sqlalchemy as sa\n",
    "\n",
    "\n",
    "conn = sqlite3.connect('test.db')\n",
    "\n",
    "df = pd.read_sql_query('select * from movie', conn)\n",
    "\n",
    "print(df)\n",
    "\n",
    "\n"
   ]
  }
 ],
 "metadata": {
  "kernelspec": {
   "display_name": "dataProj-venv",
   "language": "python",
   "name": "python3"
  },
  "language_info": {
   "codemirror_mode": {
    "name": "ipython",
    "version": 3
   },
   "file_extension": ".py",
   "mimetype": "text/x-python",
   "name": "python",
   "nbconvert_exporter": "python",
   "pygments_lexer": "ipython3",
   "version": "3.11.7"
  }
 },
 "nbformat": 4,
 "nbformat_minor": 2
}
