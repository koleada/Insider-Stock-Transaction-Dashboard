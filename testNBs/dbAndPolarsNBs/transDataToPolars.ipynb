{
 "cells": [
  {
   "cell_type": "markdown",
   "metadata": {},
   "source": [
    "Just going to experiment with reading transaction data into a polars dataframe from the tsv file "
   ]
  },
  {
   "cell_type": "code",
   "execution_count": 4,
   "metadata": {},
   "outputs": [
    {
     "name": "stdout",
     "output_type": "stream",
     "text": [
      "33\n",
      "shape: (33, 5)\n",
      "┌────────────────────┬──────────────┬────────────────────┬────────────────────┬────────────────────┐\n",
      "│ ACCESSION_NUMBER   ┆ TRANS_SHARES ┆ TRANS_PRICEPERSHAR ┆ TRANS_ACQUIRED_DIS ┆ SHRS_OWND_FOLWNG_T │\n",
      "│ ---                ┆ ---          ┆ E                  ┆ P_CD               ┆ RANS               │\n",
      "│ str                ┆ f64          ┆ ---                ┆ ---                ┆ ---                │\n",
      "│                    ┆              ┆ f64                ┆ str                ┆ f64                │\n",
      "╞════════════════════╪══════════════╪════════════════════╪════════════════════╪════════════════════╡\n",
      "│ 0001250853-24-0000 ┆ 258010.0     ┆ 1.27               ┆ A                  ┆ 2.461832e6         │\n",
      "│ 09                 ┆              ┆                    ┆                    ┆                    │\n",
      "│ 0001250853-24-0000 ┆ 49990.0      ┆ 1.27               ┆ A                  ┆ 2.511822e6         │\n",
      "│ 09                 ┆              ┆                    ┆                    ┆                    │\n",
      "│ 0001250853-24-0000 ┆ 300000.0     ┆ 1.29               ┆ A                  ┆ 2.203822e6         │\n",
      "│ 09                 ┆              ┆                    ┆                    ┆                    │\n",
      "│ 0001610717-24-0003 ┆ 238965.0     ┆ 0.0                ┆ D                  ┆ 238965.0           │\n",
      "│ 80                 ┆              ┆                    ┆                    ┆                    │\n",
      "│ 0001415889-24-0185 ┆ 7959.0       ┆ 14.97              ┆ A                  ┆ 190094.0           │\n",
      "│ 12                 ┆              ┆                    ┆                    ┆                    │\n",
      "│ …                  ┆ …            ┆ …                  ┆ …                  ┆ …                  │\n",
      "│ 0001140361-24-0318 ┆ 16627.0      ┆ 178.46             ┆ D                  ┆ 6.70278284e8       │\n",
      "│ 15                 ┆              ┆                    ┆                    ┆                    │\n",
      "│ 0001140361-24-0318 ┆ 16097.0      ┆ 174.26             ┆ D                  ┆ 6.7066257e8        │\n",
      "│ 15                 ┆              ┆                    ┆                    ┆                    │\n",
      "│ 0001140361-24-0318 ┆ 34976.0      ┆ 175.39             ┆ D                  ┆ 6.70627594e8       │\n",
      "│ 15                 ┆              ┆                    ┆                    ┆                    │\n",
      "│ 0001140361-24-0318 ┆ 74678.0      ┆ 176.29             ┆ D                  ┆ 6.70552916e8       │\n",
      "│ 15                 ┆              ┆                    ┆                    ┆                    │\n",
      "│ 0001140361-24-0318 ┆ 19891.0      ┆ 177.78             ┆ D                  ┆ 6.70294911e8       │\n",
      "│ 15                 ┆              ┆                    ┆                    ┆                    │\n",
      "└────────────────────┴──────────────┴────────────────────┴────────────────────┴────────────────────┘\n",
      "shape: (21, 5)\n",
      "┌────────────────────┬──────────────┬────────────────────┬────────────────────┬────────────────────┐\n",
      "│ ACCESSION_NUMBER   ┆ TRANS_SHARES ┆ TRANS_PRICEPERSHAR ┆ TRANS_ACQUIRED_DIS ┆ SHRS_OWND_FOLWNG_T │\n",
      "│ ---                ┆ ---          ┆ E                  ┆ P_CD               ┆ RANS               │\n",
      "│ str                ┆ f64          ┆ ---                ┆ ---                ┆ ---                │\n",
      "│                    ┆              ┆ f64                ┆ str                ┆ f64                │\n",
      "╞════════════════════╪══════════════╪════════════════════╪════════════════════╪════════════════════╡\n",
      "│ 0001250853-24-0000 ┆ 258010.0     ┆ 1.27               ┆ A                  ┆ 2.461832e6         │\n",
      "│ 09                 ┆              ┆                    ┆                    ┆                    │\n",
      "│ 0001250853-24-0000 ┆ 49990.0      ┆ 1.27               ┆ A                  ┆ 2.511822e6         │\n",
      "│ 09                 ┆              ┆                    ┆                    ┆                    │\n",
      "│ 0001250853-24-0000 ┆ 300000.0     ┆ 1.29               ┆ A                  ┆ 2.203822e6         │\n",
      "│ 09                 ┆              ┆                    ┆                    ┆                    │\n",
      "│ 0001415889-24-0185 ┆ 7959.0       ┆ 14.97              ┆ A                  ┆ 190094.0           │\n",
      "│ 12                 ┆              ┆                    ┆                    ┆                    │\n",
      "│ 0000950170-24-0791 ┆ 1350.0       ┆ 16.03              ┆ D                  ┆ 213702.0           │\n",
      "│ 90                 ┆              ┆                    ┆                    ┆                    │\n",
      "│ …                  ┆ …            ┆ …                  ┆ …                  ┆ …                  │\n",
      "│ 0001140361-24-0318 ┆ 16627.0      ┆ 178.46             ┆ D                  ┆ 6.70278284e8       │\n",
      "│ 15                 ┆              ┆                    ┆                    ┆                    │\n",
      "│ 0001140361-24-0318 ┆ 16097.0      ┆ 174.26             ┆ D                  ┆ 6.7066257e8        │\n",
      "│ 15                 ┆              ┆                    ┆                    ┆                    │\n",
      "│ 0001140361-24-0318 ┆ 34976.0      ┆ 175.39             ┆ D                  ┆ 6.70627594e8       │\n",
      "│ 15                 ┆              ┆                    ┆                    ┆                    │\n",
      "│ 0001140361-24-0318 ┆ 74678.0      ┆ 176.29             ┆ D                  ┆ 6.70552916e8       │\n",
      "│ 15                 ┆              ┆                    ┆                    ┆                    │\n",
      "│ 0001140361-24-0318 ┆ 19891.0      ┆ 177.78             ┆ D                  ┆ 6.70294911e8       │\n",
      "│ 15                 ┆              ┆                    ┆                    ┆                    │\n",
      "└────────────────────┴──────────────┴────────────────────┴────────────────────┴────────────────────┘\n"
     ]
    }
   ],
   "source": [
    "import polars as pl\n",
    "\n",
    "def lowercase_colnames(df):\n",
    "  \"\"\"Creates a new DataFrame with all column names lowercased.\"\"\"\n",
    "  new_names = {'ACCESSION_NUMBER': 'accession_number', 'TRANS_SHARES': 'trans_shares', 'TRANS_PRICEPERSHARE': 'trans_pricepershare', 'TRANS_ACQUIRED_DISP_CD': 'trans_acquired_disp_cd', 'SHRS_OWND_FOLWNG_TRANS': 'shrs_ownd_folwng_trans'}\n",
    "  return df.with_columns([df[col] for col in df.columns], new_names=new_names)\n",
    "\n",
    "\n",
    "data_path = 'testData/NONDERIV_TRANS.tsv'\n",
    "\n",
    "desired_columns = ['ACCESSION_NUMBER', 'TRANS_SHARES', 'TRANS_PRICEPERSHARE', 'TRANS_ACQUIRED_DISP_CD', 'SHRS_OWND_FOLWNG_TRANS']\n",
    "\n",
    "lazyframe = pl.scan_csv(data_path, separator='\\t')\n",
    "\n",
    "extracted_frame = lazyframe.select(desired_columns).collect()\n",
    "\n",
    "print(len(extracted_frame))\n",
    "print(extracted_frame)\n",
    "# check for a price per share of 0 and remove it from the dataframe -> pl.col specifies col then you add some conditional check \n",
    "extracted_frame = extracted_frame.filter(pl.col('TRANS_PRICEPERSHARE') != 0)\n",
    "\n",
    "extracted_frame.select(pl.all().name.to_lowercase())\n",
    "print(extracted_frame)\n",
    "# frame.rows(named=True) returns a dict of for each row where the keys are just column names \n",
    "# for row in extracted_frame.rows(named=True):\n",
    "#     if row['TRANS_SHARES'] != 0 and row['TRANS_PRICEPERSHARE'] != 0:\n",
    "#         total_cost = (float(row['TRANS_SHARES'] * row['TRANS_PRICEPERSHARE']))\n",
    "#         print(row)\n",
    "#     else:\n",
    "#         pass\n",
    "\n",
    "\n"
   ]
  }
 ],
 "metadata": {
  "kernelspec": {
   "display_name": "dataProj-venv",
   "language": "python",
   "name": "python3"
  },
  "language_info": {
   "codemirror_mode": {
    "name": "ipython",
    "version": 3
   },
   "file_extension": ".py",
   "mimetype": "text/x-python",
   "name": "python",
   "nbconvert_exporter": "python",
   "pygments_lexer": "ipython3",
   "version": "3.11.7"
  }
 },
 "nbformat": 4,
 "nbformat_minor": 2
}
